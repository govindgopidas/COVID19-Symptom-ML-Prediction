{
 "cells": [
  {
   "cell_type": "markdown",
   "id": "462ff3d2",
   "metadata": {},
   "source": [
    "## 1. Business objective"
   ]
  },
  {
   "cell_type": "markdown",
   "id": "c1f98b26",
   "metadata": {},
   "source": [
    "The project aims to develop an AI-driven predictive model, 'COVID-19 Prognosis AI: Enhancing Diagnosis, Reducing Burden,' to significantly improve the accuracy of COVID-19 diagnosis by leveraging patient symptoms, age, and contact history. This initiative seeks to enhance medical diagnosis, streamline resource allocation in healthcare, reduce the burden on healthcare systems, provide a scalable framework for future infectious diseases, and contribute valuable insights to ongoing research efforts in the field, ultimately improving public health outcomes and preparedness."
   ]
  },
  {
   "cell_type": "markdown",
   "id": "48da58a5",
   "metadata": {},
   "source": [
    "## 2. Data Preparation/Data preprocessing: Feature  Engineering + Feature selection"
   ]
  },
  {
   "cell_type": "code",
   "execution_count": 20,
   "id": "7fc9bb63",
   "metadata": {},
   "outputs": [],
   "source": [
    "# Importing all required libraries:\n",
    "import pandas as pd\n",
    "import numpy as np\n",
    "import matplotlib.pyplot as plt\n",
    "import plotly.express as px\n",
    "import seaborn as sns"
   ]
  },
  {
   "cell_type": "code",
   "execution_count": 21,
   "id": "14e9ad95",
   "metadata": {},
   "outputs": [
    {
     "name": "stderr",
     "output_type": "stream",
     "text": [
      "C:\\Users\\91630\\AppData\\Local\\Temp\\ipykernel_7864\\507917939.py:2: DtypeWarning: Columns (2,3,4,5,6) have mixed types. Specify dtype option on import or set low_memory=False.\n",
      "  corona_db = pd.read_csv('corona_tested.csv')\n"
     ]
    }
   ],
   "source": [
    "# Importing the collected dataset\n",
    "corona_db = pd.read_csv('corona_tested.csv')"
   ]
  },
  {
   "cell_type": "code",
   "execution_count": 22,
   "id": "e8834f1c",
   "metadata": {},
   "outputs": [
    {
     "data": {
      "text/html": [
       "<div>\n",
       "<style scoped>\n",
       "    .dataframe tbody tr th:only-of-type {\n",
       "        vertical-align: middle;\n",
       "    }\n",
       "\n",
       "    .dataframe tbody tr th {\n",
       "        vertical-align: top;\n",
       "    }\n",
       "\n",
       "    .dataframe thead th {\n",
       "        text-align: right;\n",
       "    }\n",
       "</style>\n",
       "<table border=\"1\" class=\"dataframe\">\n",
       "  <thead>\n",
       "    <tr style=\"text-align: right;\">\n",
       "      <th></th>\n",
       "      <th>Ind_ID</th>\n",
       "      <th>Test_date</th>\n",
       "      <th>Cough_symptoms</th>\n",
       "      <th>Fever</th>\n",
       "      <th>Sore_throat</th>\n",
       "      <th>Shortness_of_breath</th>\n",
       "      <th>Headache</th>\n",
       "      <th>Corona</th>\n",
       "      <th>Age_60_above</th>\n",
       "      <th>Sex</th>\n",
       "      <th>Known_contact</th>\n",
       "    </tr>\n",
       "  </thead>\n",
       "  <tbody>\n",
       "    <tr>\n",
       "      <th>0</th>\n",
       "      <td>1</td>\n",
       "      <td>11-03-2020</td>\n",
       "      <td>TRUE</td>\n",
       "      <td>FALSE</td>\n",
       "      <td>TRUE</td>\n",
       "      <td>FALSE</td>\n",
       "      <td>FALSE</td>\n",
       "      <td>negative</td>\n",
       "      <td>None</td>\n",
       "      <td>None</td>\n",
       "      <td>Abroad</td>\n",
       "    </tr>\n",
       "    <tr>\n",
       "      <th>1</th>\n",
       "      <td>2</td>\n",
       "      <td>11-03-2020</td>\n",
       "      <td>FALSE</td>\n",
       "      <td>TRUE</td>\n",
       "      <td>FALSE</td>\n",
       "      <td>FALSE</td>\n",
       "      <td>FALSE</td>\n",
       "      <td>positive</td>\n",
       "      <td>None</td>\n",
       "      <td>None</td>\n",
       "      <td>Abroad</td>\n",
       "    </tr>\n",
       "    <tr>\n",
       "      <th>2</th>\n",
       "      <td>3</td>\n",
       "      <td>11-03-2020</td>\n",
       "      <td>FALSE</td>\n",
       "      <td>TRUE</td>\n",
       "      <td>FALSE</td>\n",
       "      <td>FALSE</td>\n",
       "      <td>FALSE</td>\n",
       "      <td>positive</td>\n",
       "      <td>None</td>\n",
       "      <td>None</td>\n",
       "      <td>Abroad</td>\n",
       "    </tr>\n",
       "    <tr>\n",
       "      <th>3</th>\n",
       "      <td>4</td>\n",
       "      <td>11-03-2020</td>\n",
       "      <td>TRUE</td>\n",
       "      <td>FALSE</td>\n",
       "      <td>FALSE</td>\n",
       "      <td>FALSE</td>\n",
       "      <td>FALSE</td>\n",
       "      <td>negative</td>\n",
       "      <td>None</td>\n",
       "      <td>None</td>\n",
       "      <td>Abroad</td>\n",
       "    </tr>\n",
       "    <tr>\n",
       "      <th>4</th>\n",
       "      <td>5</td>\n",
       "      <td>11-03-2020</td>\n",
       "      <td>TRUE</td>\n",
       "      <td>FALSE</td>\n",
       "      <td>FALSE</td>\n",
       "      <td>FALSE</td>\n",
       "      <td>FALSE</td>\n",
       "      <td>negative</td>\n",
       "      <td>None</td>\n",
       "      <td>None</td>\n",
       "      <td>Contact with confirmed</td>\n",
       "    </tr>\n",
       "  </tbody>\n",
       "</table>\n",
       "</div>"
      ],
      "text/plain": [
       "   Ind_ID   Test_date Cough_symptoms  Fever Sore_throat Shortness_of_breath  \\\n",
       "0       1  11-03-2020           TRUE  FALSE        TRUE               FALSE   \n",
       "1       2  11-03-2020          FALSE   TRUE       FALSE               FALSE   \n",
       "2       3  11-03-2020          FALSE   TRUE       FALSE               FALSE   \n",
       "3       4  11-03-2020           TRUE  FALSE       FALSE               FALSE   \n",
       "4       5  11-03-2020           TRUE  FALSE       FALSE               FALSE   \n",
       "\n",
       "  Headache    Corona Age_60_above   Sex           Known_contact  \n",
       "0    FALSE  negative         None  None                  Abroad  \n",
       "1    FALSE  positive         None  None                  Abroad  \n",
       "2    FALSE  positive         None  None                  Abroad  \n",
       "3    FALSE  negative         None  None                  Abroad  \n",
       "4    FALSE  negative         None  None  Contact with confirmed  "
      ]
     },
     "execution_count": 22,
     "metadata": {},
     "output_type": "execute_result"
    }
   ],
   "source": [
    "# Quick glance\n",
    "corona_db.head()"
   ]
  },
  {
   "cell_type": "markdown",
   "id": "5f2c109a",
   "metadata": {},
   "source": [
    "## 2.2 Exploratory data analysis"
   ]
  },
  {
   "cell_type": "code",
   "execution_count": 23,
   "id": "07871644",
   "metadata": {},
   "outputs": [
    {
     "name": "stdout",
     "output_type": "stream",
     "text": [
      "<class 'pandas.core.frame.DataFrame'>\n",
      "RangeIndex: 278848 entries, 0 to 278847\n",
      "Data columns (total 11 columns):\n",
      " #   Column               Non-Null Count   Dtype \n",
      "---  ------               --------------   ----- \n",
      " 0   Ind_ID               278848 non-null  int64 \n",
      " 1   Test_date            278848 non-null  object\n",
      " 2   Cough_symptoms       278848 non-null  object\n",
      " 3   Fever                278848 non-null  object\n",
      " 4   Sore_throat          278848 non-null  object\n",
      " 5   Shortness_of_breath  278848 non-null  object\n",
      " 6   Headache             278848 non-null  object\n",
      " 7   Corona               278848 non-null  object\n",
      " 8   Age_60_above         278848 non-null  object\n",
      " 9   Sex                  278848 non-null  object\n",
      " 10  Known_contact        278848 non-null  object\n",
      "dtypes: int64(1), object(10)\n",
      "memory usage: 23.4+ MB\n"
     ]
    }
   ],
   "source": [
    "corona_db.info()"
   ]
  },
  {
   "cell_type": "code",
   "execution_count": 24,
   "id": "6e4340e4",
   "metadata": {},
   "outputs": [
    {
     "data": {
      "text/plain": [
       "Index(['Ind_ID', 'Test_date', 'Cough_symptoms', 'Fever', 'Sore_throat',\n",
       "       'Shortness_of_breath', 'Headache', 'Corona', 'Age_60_above', 'Sex',\n",
       "       'Known_contact'],\n",
       "      dtype='object')"
      ]
     },
     "execution_count": 24,
     "metadata": {},
     "output_type": "execute_result"
    }
   ],
   "source": [
    "corona_db.columns"
   ]
  },
  {
   "cell_type": "code",
   "execution_count": 25,
   "id": "f7f37794",
   "metadata": {},
   "outputs": [
    {
     "data": {
      "text/plain": [
       "Ind_ID                  int64\n",
       "Test_date              object\n",
       "Cough_symptoms         object\n",
       "Fever                  object\n",
       "Sore_throat            object\n",
       "Shortness_of_breath    object\n",
       "Headache               object\n",
       "Corona                 object\n",
       "Age_60_above           object\n",
       "Sex                    object\n",
       "Known_contact          object\n",
       "dtype: object"
      ]
     },
     "execution_count": 25,
     "metadata": {},
     "output_type": "execute_result"
    }
   ],
   "source": [
    "corona_db.dtypes"
   ]
  },
  {
   "cell_type": "code",
   "execution_count": 26,
   "id": "867023ff",
   "metadata": {},
   "outputs": [
    {
     "data": {
      "text/html": [
       "<div>\n",
       "<style scoped>\n",
       "    .dataframe tbody tr th:only-of-type {\n",
       "        vertical-align: middle;\n",
       "    }\n",
       "\n",
       "    .dataframe tbody tr th {\n",
       "        vertical-align: top;\n",
       "    }\n",
       "\n",
       "    .dataframe thead th {\n",
       "        text-align: right;\n",
       "    }\n",
       "</style>\n",
       "<table border=\"1\" class=\"dataframe\">\n",
       "  <thead>\n",
       "    <tr style=\"text-align: right;\">\n",
       "      <th></th>\n",
       "      <th>Ind_ID</th>\n",
       "      <th>Test_date</th>\n",
       "      <th>Cough_symptoms</th>\n",
       "      <th>Fever</th>\n",
       "      <th>Sore_throat</th>\n",
       "      <th>Shortness_of_breath</th>\n",
       "      <th>Headache</th>\n",
       "      <th>Corona</th>\n",
       "      <th>Age_60_above</th>\n",
       "      <th>Sex</th>\n",
       "      <th>Known_contact</th>\n",
       "    </tr>\n",
       "  </thead>\n",
       "  <tbody>\n",
       "    <tr>\n",
       "      <th>count</th>\n",
       "      <td>278848.000000</td>\n",
       "      <td>278848</td>\n",
       "      <td>278848</td>\n",
       "      <td>278848</td>\n",
       "      <td>278848</td>\n",
       "      <td>278848</td>\n",
       "      <td>278848</td>\n",
       "      <td>278848</td>\n",
       "      <td>278848</td>\n",
       "      <td>278848</td>\n",
       "      <td>278848</td>\n",
       "    </tr>\n",
       "    <tr>\n",
       "      <th>unique</th>\n",
       "      <td>NaN</td>\n",
       "      <td>51</td>\n",
       "      <td>5</td>\n",
       "      <td>5</td>\n",
       "      <td>5</td>\n",
       "      <td>5</td>\n",
       "      <td>5</td>\n",
       "      <td>3</td>\n",
       "      <td>3</td>\n",
       "      <td>3</td>\n",
       "      <td>3</td>\n",
       "    </tr>\n",
       "    <tr>\n",
       "      <th>top</th>\n",
       "      <td>NaN</td>\n",
       "      <td>20-04-2020</td>\n",
       "      <td>False</td>\n",
       "      <td>False</td>\n",
       "      <td>False</td>\n",
       "      <td>False</td>\n",
       "      <td>False</td>\n",
       "      <td>negative</td>\n",
       "      <td>None</td>\n",
       "      <td>female</td>\n",
       "      <td>Other</td>\n",
       "    </tr>\n",
       "    <tr>\n",
       "      <th>freq</th>\n",
       "      <td>NaN</td>\n",
       "      <td>10921</td>\n",
       "      <td>127531</td>\n",
       "      <td>137774</td>\n",
       "      <td>212584</td>\n",
       "      <td>212842</td>\n",
       "      <td>212326</td>\n",
       "      <td>260227</td>\n",
       "      <td>127320</td>\n",
       "      <td>130158</td>\n",
       "      <td>242741</td>\n",
       "    </tr>\n",
       "    <tr>\n",
       "      <th>mean</th>\n",
       "      <td>139424.500000</td>\n",
       "      <td>NaN</td>\n",
       "      <td>NaN</td>\n",
       "      <td>NaN</td>\n",
       "      <td>NaN</td>\n",
       "      <td>NaN</td>\n",
       "      <td>NaN</td>\n",
       "      <td>NaN</td>\n",
       "      <td>NaN</td>\n",
       "      <td>NaN</td>\n",
       "      <td>NaN</td>\n",
       "    </tr>\n",
       "    <tr>\n",
       "      <th>std</th>\n",
       "      <td>80496.628269</td>\n",
       "      <td>NaN</td>\n",
       "      <td>NaN</td>\n",
       "      <td>NaN</td>\n",
       "      <td>NaN</td>\n",
       "      <td>NaN</td>\n",
       "      <td>NaN</td>\n",
       "      <td>NaN</td>\n",
       "      <td>NaN</td>\n",
       "      <td>NaN</td>\n",
       "      <td>NaN</td>\n",
       "    </tr>\n",
       "    <tr>\n",
       "      <th>min</th>\n",
       "      <td>1.000000</td>\n",
       "      <td>NaN</td>\n",
       "      <td>NaN</td>\n",
       "      <td>NaN</td>\n",
       "      <td>NaN</td>\n",
       "      <td>NaN</td>\n",
       "      <td>NaN</td>\n",
       "      <td>NaN</td>\n",
       "      <td>NaN</td>\n",
       "      <td>NaN</td>\n",
       "      <td>NaN</td>\n",
       "    </tr>\n",
       "    <tr>\n",
       "      <th>25%</th>\n",
       "      <td>69712.750000</td>\n",
       "      <td>NaN</td>\n",
       "      <td>NaN</td>\n",
       "      <td>NaN</td>\n",
       "      <td>NaN</td>\n",
       "      <td>NaN</td>\n",
       "      <td>NaN</td>\n",
       "      <td>NaN</td>\n",
       "      <td>NaN</td>\n",
       "      <td>NaN</td>\n",
       "      <td>NaN</td>\n",
       "    </tr>\n",
       "    <tr>\n",
       "      <th>50%</th>\n",
       "      <td>139424.500000</td>\n",
       "      <td>NaN</td>\n",
       "      <td>NaN</td>\n",
       "      <td>NaN</td>\n",
       "      <td>NaN</td>\n",
       "      <td>NaN</td>\n",
       "      <td>NaN</td>\n",
       "      <td>NaN</td>\n",
       "      <td>NaN</td>\n",
       "      <td>NaN</td>\n",
       "      <td>NaN</td>\n",
       "    </tr>\n",
       "    <tr>\n",
       "      <th>75%</th>\n",
       "      <td>209136.250000</td>\n",
       "      <td>NaN</td>\n",
       "      <td>NaN</td>\n",
       "      <td>NaN</td>\n",
       "      <td>NaN</td>\n",
       "      <td>NaN</td>\n",
       "      <td>NaN</td>\n",
       "      <td>NaN</td>\n",
       "      <td>NaN</td>\n",
       "      <td>NaN</td>\n",
       "      <td>NaN</td>\n",
       "    </tr>\n",
       "    <tr>\n",
       "      <th>max</th>\n",
       "      <td>278848.000000</td>\n",
       "      <td>NaN</td>\n",
       "      <td>NaN</td>\n",
       "      <td>NaN</td>\n",
       "      <td>NaN</td>\n",
       "      <td>NaN</td>\n",
       "      <td>NaN</td>\n",
       "      <td>NaN</td>\n",
       "      <td>NaN</td>\n",
       "      <td>NaN</td>\n",
       "      <td>NaN</td>\n",
       "    </tr>\n",
       "  </tbody>\n",
       "</table>\n",
       "</div>"
      ],
      "text/plain": [
       "               Ind_ID   Test_date Cough_symptoms   Fever Sore_throat  \\\n",
       "count   278848.000000      278848         278848  278848      278848   \n",
       "unique            NaN          51              5       5           5   \n",
       "top               NaN  20-04-2020          False   False       False   \n",
       "freq              NaN       10921         127531  137774      212584   \n",
       "mean    139424.500000         NaN            NaN     NaN         NaN   \n",
       "std      80496.628269         NaN            NaN     NaN         NaN   \n",
       "min          1.000000         NaN            NaN     NaN         NaN   \n",
       "25%      69712.750000         NaN            NaN     NaN         NaN   \n",
       "50%     139424.500000         NaN            NaN     NaN         NaN   \n",
       "75%     209136.250000         NaN            NaN     NaN         NaN   \n",
       "max     278848.000000         NaN            NaN     NaN         NaN   \n",
       "\n",
       "       Shortness_of_breath Headache    Corona Age_60_above     Sex  \\\n",
       "count               278848   278848    278848       278848  278848   \n",
       "unique                   5        5         3            3       3   \n",
       "top                  False    False  negative         None  female   \n",
       "freq                212842   212326    260227       127320  130158   \n",
       "mean                   NaN      NaN       NaN          NaN     NaN   \n",
       "std                    NaN      NaN       NaN          NaN     NaN   \n",
       "min                    NaN      NaN       NaN          NaN     NaN   \n",
       "25%                    NaN      NaN       NaN          NaN     NaN   \n",
       "50%                    NaN      NaN       NaN          NaN     NaN   \n",
       "75%                    NaN      NaN       NaN          NaN     NaN   \n",
       "max                    NaN      NaN       NaN          NaN     NaN   \n",
       "\n",
       "       Known_contact  \n",
       "count         278848  \n",
       "unique             3  \n",
       "top            Other  \n",
       "freq          242741  \n",
       "mean             NaN  \n",
       "std              NaN  \n",
       "min              NaN  \n",
       "25%              NaN  \n",
       "50%              NaN  \n",
       "75%              NaN  \n",
       "max              NaN  "
      ]
     },
     "execution_count": 26,
     "metadata": {},
     "output_type": "execute_result"
    }
   ],
   "source": [
    "corona_db.describe(include='all')"
   ]
  },
  {
   "cell_type": "markdown",
   "id": "18ee8129",
   "metadata": {},
   "source": [
    "## 2.2.2 Checking whether there is any wrong entries:"
   ]
  },
  {
   "cell_type": "code",
   "execution_count": 27,
   "id": "247a556b",
   "metadata": {},
   "outputs": [
    {
     "data": {
      "text/plain": [
       "array(['TRUE', 'FALSE', 'None', False, True], dtype=object)"
      ]
     },
     "execution_count": 27,
     "metadata": {},
     "output_type": "execute_result"
    }
   ],
   "source": [
    "corona_db[\"Cough_symptoms\"].unique()"
   ]
  },
  {
   "cell_type": "code",
   "execution_count": 28,
   "id": "55667881",
   "metadata": {},
   "outputs": [
    {
     "data": {
      "text/plain": [
       "array(['FALSE', 'TRUE', 'None', False, True], dtype=object)"
      ]
     },
     "execution_count": 28,
     "metadata": {},
     "output_type": "execute_result"
    }
   ],
   "source": [
    "corona_db[\"Fever\"].unique()"
   ]
  },
  {
   "cell_type": "code",
   "execution_count": 29,
   "id": "0160cf35",
   "metadata": {},
   "outputs": [
    {
     "data": {
      "text/plain": [
       "array(['TRUE', 'FALSE', 'None', False, True], dtype=object)"
      ]
     },
     "execution_count": 29,
     "metadata": {},
     "output_type": "execute_result"
    }
   ],
   "source": [
    "corona_db[\"Sore_throat\"].unique()"
   ]
  },
  {
   "cell_type": "code",
   "execution_count": 30,
   "id": "35dca250",
   "metadata": {},
   "outputs": [
    {
     "data": {
      "text/plain": [
       "array(['FALSE', 'TRUE', 'None', False, True], dtype=object)"
      ]
     },
     "execution_count": 30,
     "metadata": {},
     "output_type": "execute_result"
    }
   ],
   "source": [
    "corona_db[\"Headache\"].unique()"
   ]
  },
  {
   "cell_type": "code",
   "execution_count": 31,
   "id": "3cc77690",
   "metadata": {},
   "outputs": [
    {
     "data": {
      "text/plain": [
       "array(['negative', 'positive', 'other'], dtype=object)"
      ]
     },
     "execution_count": 31,
     "metadata": {},
     "output_type": "execute_result"
    }
   ],
   "source": [
    "corona_db[\"Corona\"].unique()"
   ]
  },
  {
   "cell_type": "code",
   "execution_count": 32,
   "id": "bb54b28c",
   "metadata": {},
   "outputs": [
    {
     "data": {
      "text/plain": [
       "array(['None', 'No', 'Yes'], dtype=object)"
      ]
     },
     "execution_count": 32,
     "metadata": {},
     "output_type": "execute_result"
    }
   ],
   "source": [
    "corona_db[\"Age_60_above\"].unique()"
   ]
  },
  {
   "cell_type": "code",
   "execution_count": 33,
   "id": "8308f588",
   "metadata": {},
   "outputs": [
    {
     "data": {
      "text/plain": [
       "array(['None', 'male', 'female'], dtype=object)"
      ]
     },
     "execution_count": 33,
     "metadata": {},
     "output_type": "execute_result"
    }
   ],
   "source": [
    "corona_db[\"Sex\"].unique()"
   ]
  },
  {
   "cell_type": "code",
   "execution_count": 34,
   "id": "7b09ec2b",
   "metadata": {},
   "outputs": [
    {
     "data": {
      "text/plain": [
       "array(['Abroad', 'Contact with confirmed', 'Other'], dtype=object)"
      ]
     },
     "execution_count": 34,
     "metadata": {},
     "output_type": "execute_result"
    }
   ],
   "source": [
    "corona_db[\"Known_contact\"].unique()"
   ]
  },
  {
   "cell_type": "markdown",
   "id": "b131394f",
   "metadata": {},
   "source": [
    "## 2.2.3 Standardizing the entries (Data cleaning)"
   ]
  },
  {
   "cell_type": "markdown",
   "id": "26dd38a3",
   "metadata": {},
   "source": [
    "* As we can see there are some columns with various representations of boolean values, including strings ('TRUE' and 'FALSE') as well as Python's boolean values (True and False).\n",
    "* The presence of multiple representations of the same information (e.g., 'TRUE', 'FALSE', True, False) can affect the nominal encoding of categorical data in a machine learning context. To effectively encode such data, you should ensure that the values are consistent and properly converted to a single data type."
   ]
  },
  {
   "cell_type": "code",
   "execution_count": 35,
   "id": "fe45a99b",
   "metadata": {},
   "outputs": [],
   "source": [
    "# Standardizing the entries in the column Cough_symptoms\n",
    "corona_db['Cough_symptoms'] = corona_db['Cough_symptoms'].replace({'TRUE': True, 'FALSE': False})"
   ]
  },
  {
   "cell_type": "code",
   "execution_count": 36,
   "id": "da837af1",
   "metadata": {},
   "outputs": [
    {
     "data": {
      "text/plain": [
       "array([True, False, 'None'], dtype=object)"
      ]
     },
     "execution_count": 36,
     "metadata": {},
     "output_type": "execute_result"
    }
   ],
   "source": [
    "corona_db[\"Cough_symptoms\"].unique()"
   ]
  },
  {
   "cell_type": "code",
   "execution_count": 37,
   "id": "39ed9941",
   "metadata": {},
   "outputs": [],
   "source": [
    "# Standardizing the entries in the column Fever\n",
    "corona_db['Fever'] = corona_db['Fever'].replace({'TRUE': True, 'FALSE': False})"
   ]
  },
  {
   "cell_type": "code",
   "execution_count": 38,
   "id": "545ad393",
   "metadata": {},
   "outputs": [
    {
     "data": {
      "text/plain": [
       "array([False, True, 'None'], dtype=object)"
      ]
     },
     "execution_count": 38,
     "metadata": {},
     "output_type": "execute_result"
    }
   ],
   "source": [
    "corona_db['Fever'].unique()"
   ]
  },
  {
   "cell_type": "code",
   "execution_count": 39,
   "id": "90c30e99",
   "metadata": {},
   "outputs": [],
   "source": [
    "# Standardizing the entries in the column Sore_throat\n",
    "corona_db['Sore_throat'] = corona_db['Sore_throat'].replace({'TRUE': True, 'FALSE': False})"
   ]
  },
  {
   "cell_type": "code",
   "execution_count": 40,
   "id": "08d616ba",
   "metadata": {},
   "outputs": [
    {
     "data": {
      "text/plain": [
       "array([True, False, 'None'], dtype=object)"
      ]
     },
     "execution_count": 40,
     "metadata": {},
     "output_type": "execute_result"
    }
   ],
   "source": [
    "corona_db['Sore_throat'].unique()"
   ]
  },
  {
   "cell_type": "code",
   "execution_count": 41,
   "id": "00f3bda3",
   "metadata": {},
   "outputs": [],
   "source": [
    "# Standardizing the entries in the column Sore_throat\n",
    "corona_db['Headache'] = corona_db['Headache'].replace({'TRUE': True, 'FALSE': False})"
   ]
  },
  {
   "cell_type": "code",
   "execution_count": 42,
   "id": "17b06859",
   "metadata": {},
   "outputs": [
    {
     "data": {
      "text/plain": [
       "array([False, True, 'None'], dtype=object)"
      ]
     },
     "execution_count": 42,
     "metadata": {},
     "output_type": "execute_result"
    }
   ],
   "source": [
    "corona_db['Headache'].unique()"
   ]
  },
  {
   "cell_type": "markdown",
   "id": "1f5cfdb1",
   "metadata": {},
   "source": [
    "## 2.2.4 Checking for null values"
   ]
  },
  {
   "cell_type": "code",
   "execution_count": 43,
   "id": "1cb7f9c7",
   "metadata": {},
   "outputs": [
    {
     "data": {
      "text/plain": [
       "Ind_ID                 0\n",
       "Test_date              0\n",
       "Cough_symptoms         0\n",
       "Fever                  0\n",
       "Sore_throat            0\n",
       "Shortness_of_breath    0\n",
       "Headache               0\n",
       "Corona                 0\n",
       "Age_60_above           0\n",
       "Sex                    0\n",
       "Known_contact          0\n",
       "dtype: int64"
      ]
     },
     "execution_count": 43,
     "metadata": {},
     "output_type": "execute_result"
    }
   ],
   "source": [
    "corona_db.isnull().sum()"
   ]
  },
  {
   "cell_type": "markdown",
   "id": "8efe5958",
   "metadata": {},
   "source": [
    "## 2.2.5 Checking for duplicates"
   ]
  },
  {
   "cell_type": "code",
   "execution_count": 44,
   "id": "4da62715",
   "metadata": {},
   "outputs": [
    {
     "data": {
      "text/plain": [
       "0         False\n",
       "1         False\n",
       "2         False\n",
       "3         False\n",
       "4         False\n",
       "          ...  \n",
       "278843    False\n",
       "278844    False\n",
       "278845    False\n",
       "278846    False\n",
       "278847    False\n",
       "Length: 278848, dtype: bool"
      ]
     },
     "execution_count": 44,
     "metadata": {},
     "output_type": "execute_result"
    }
   ],
   "source": [
    "corona_db.duplicated()"
   ]
  },
  {
   "cell_type": "code",
   "execution_count": 45,
   "id": "05fff76d",
   "metadata": {},
   "outputs": [
    {
     "data": {
      "text/plain": [
       "0"
      ]
     },
     "execution_count": 45,
     "metadata": {},
     "output_type": "execute_result"
    }
   ],
   "source": [
    "corona_db.duplicated().sum()"
   ]
  },
  {
   "cell_type": "markdown",
   "id": "0617b936",
   "metadata": {},
   "source": [
    "## 2.2.6 Renaming the columns properly (Data cleaning)"
   ]
  },
  {
   "cell_type": "code",
   "execution_count": 46,
   "id": "b015d274",
   "metadata": {},
   "outputs": [],
   "source": [
    "# Renaming columns properly:\n",
    "\n",
    "corona_db.rename(columns = {\n",
    "    'Ind_ID':'Id',\n",
    "    'Cough_symptoms':'Cough',\n",
    "    'Corona':'Test_results'\n",
    "}, inplace = True)"
   ]
  },
  {
   "cell_type": "code",
   "execution_count": 47,
   "id": "64e5956a",
   "metadata": {},
   "outputs": [
    {
     "data": {
      "text/html": [
       "<div>\n",
       "<style scoped>\n",
       "    .dataframe tbody tr th:only-of-type {\n",
       "        vertical-align: middle;\n",
       "    }\n",
       "\n",
       "    .dataframe tbody tr th {\n",
       "        vertical-align: top;\n",
       "    }\n",
       "\n",
       "    .dataframe thead th {\n",
       "        text-align: right;\n",
       "    }\n",
       "</style>\n",
       "<table border=\"1\" class=\"dataframe\">\n",
       "  <thead>\n",
       "    <tr style=\"text-align: right;\">\n",
       "      <th></th>\n",
       "      <th>Id</th>\n",
       "      <th>Test_date</th>\n",
       "      <th>Cough</th>\n",
       "      <th>Fever</th>\n",
       "      <th>Sore_throat</th>\n",
       "      <th>Shortness_of_breath</th>\n",
       "      <th>Headache</th>\n",
       "      <th>Test_results</th>\n",
       "      <th>Age_60_above</th>\n",
       "      <th>Sex</th>\n",
       "      <th>Known_contact</th>\n",
       "    </tr>\n",
       "  </thead>\n",
       "  <tbody>\n",
       "    <tr>\n",
       "      <th>0</th>\n",
       "      <td>1</td>\n",
       "      <td>11-03-2020</td>\n",
       "      <td>True</td>\n",
       "      <td>False</td>\n",
       "      <td>True</td>\n",
       "      <td>FALSE</td>\n",
       "      <td>False</td>\n",
       "      <td>negative</td>\n",
       "      <td>None</td>\n",
       "      <td>None</td>\n",
       "      <td>Abroad</td>\n",
       "    </tr>\n",
       "    <tr>\n",
       "      <th>1</th>\n",
       "      <td>2</td>\n",
       "      <td>11-03-2020</td>\n",
       "      <td>False</td>\n",
       "      <td>True</td>\n",
       "      <td>False</td>\n",
       "      <td>FALSE</td>\n",
       "      <td>False</td>\n",
       "      <td>positive</td>\n",
       "      <td>None</td>\n",
       "      <td>None</td>\n",
       "      <td>Abroad</td>\n",
       "    </tr>\n",
       "    <tr>\n",
       "      <th>2</th>\n",
       "      <td>3</td>\n",
       "      <td>11-03-2020</td>\n",
       "      <td>False</td>\n",
       "      <td>True</td>\n",
       "      <td>False</td>\n",
       "      <td>FALSE</td>\n",
       "      <td>False</td>\n",
       "      <td>positive</td>\n",
       "      <td>None</td>\n",
       "      <td>None</td>\n",
       "      <td>Abroad</td>\n",
       "    </tr>\n",
       "    <tr>\n",
       "      <th>3</th>\n",
       "      <td>4</td>\n",
       "      <td>11-03-2020</td>\n",
       "      <td>True</td>\n",
       "      <td>False</td>\n",
       "      <td>False</td>\n",
       "      <td>FALSE</td>\n",
       "      <td>False</td>\n",
       "      <td>negative</td>\n",
       "      <td>None</td>\n",
       "      <td>None</td>\n",
       "      <td>Abroad</td>\n",
       "    </tr>\n",
       "    <tr>\n",
       "      <th>4</th>\n",
       "      <td>5</td>\n",
       "      <td>11-03-2020</td>\n",
       "      <td>True</td>\n",
       "      <td>False</td>\n",
       "      <td>False</td>\n",
       "      <td>FALSE</td>\n",
       "      <td>False</td>\n",
       "      <td>negative</td>\n",
       "      <td>None</td>\n",
       "      <td>None</td>\n",
       "      <td>Contact with confirmed</td>\n",
       "    </tr>\n",
       "  </tbody>\n",
       "</table>\n",
       "</div>"
      ],
      "text/plain": [
       "   Id   Test_date  Cough  Fever Sore_throat Shortness_of_breath Headache  \\\n",
       "0   1  11-03-2020   True  False        True               FALSE    False   \n",
       "1   2  11-03-2020  False   True       False               FALSE    False   \n",
       "2   3  11-03-2020  False   True       False               FALSE    False   \n",
       "3   4  11-03-2020   True  False       False               FALSE    False   \n",
       "4   5  11-03-2020   True  False       False               FALSE    False   \n",
       "\n",
       "  Test_results Age_60_above   Sex           Known_contact  \n",
       "0     negative         None  None                  Abroad  \n",
       "1     positive         None  None                  Abroad  \n",
       "2     positive         None  None                  Abroad  \n",
       "3     negative         None  None                  Abroad  \n",
       "4     negative         None  None  Contact with confirmed  "
      ]
     },
     "execution_count": 47,
     "metadata": {},
     "output_type": "execute_result"
    }
   ],
   "source": [
    "corona_db.head()"
   ]
  },
  {
   "cell_type": "markdown",
   "id": "f906d190",
   "metadata": {},
   "source": [
    "## 2.2.7 Rearranging the columns (Data cleaning)"
   ]
  },
  {
   "cell_type": "code",
   "execution_count": 48,
   "id": "9eff1207",
   "metadata": {},
   "outputs": [],
   "source": [
    "columns=[\"Id\", \"Test_date\", \"Cough\", \"Fever\", \"Sore_throat\", \"Shortness_of_breath\", \"Headache\",\n",
    "         \"Age_60_above\", \"Sex\", \"Known_contact\", \"Test_results\"]\n",
    "corona_df = corona_db[columns]"
   ]
  },
  {
   "cell_type": "code",
   "execution_count": 49,
   "id": "543ab000",
   "metadata": {},
   "outputs": [
    {
     "data": {
      "text/html": [
       "<div>\n",
       "<style scoped>\n",
       "    .dataframe tbody tr th:only-of-type {\n",
       "        vertical-align: middle;\n",
       "    }\n",
       "\n",
       "    .dataframe tbody tr th {\n",
       "        vertical-align: top;\n",
       "    }\n",
       "\n",
       "    .dataframe thead th {\n",
       "        text-align: right;\n",
       "    }\n",
       "</style>\n",
       "<table border=\"1\" class=\"dataframe\">\n",
       "  <thead>\n",
       "    <tr style=\"text-align: right;\">\n",
       "      <th></th>\n",
       "      <th>Id</th>\n",
       "      <th>Test_date</th>\n",
       "      <th>Cough</th>\n",
       "      <th>Fever</th>\n",
       "      <th>Sore_throat</th>\n",
       "      <th>Shortness_of_breath</th>\n",
       "      <th>Headache</th>\n",
       "      <th>Age_60_above</th>\n",
       "      <th>Sex</th>\n",
       "      <th>Known_contact</th>\n",
       "      <th>Test_results</th>\n",
       "    </tr>\n",
       "  </thead>\n",
       "  <tbody>\n",
       "    <tr>\n",
       "      <th>0</th>\n",
       "      <td>1</td>\n",
       "      <td>11-03-2020</td>\n",
       "      <td>True</td>\n",
       "      <td>False</td>\n",
       "      <td>True</td>\n",
       "      <td>FALSE</td>\n",
       "      <td>False</td>\n",
       "      <td>None</td>\n",
       "      <td>None</td>\n",
       "      <td>Abroad</td>\n",
       "      <td>negative</td>\n",
       "    </tr>\n",
       "    <tr>\n",
       "      <th>1</th>\n",
       "      <td>2</td>\n",
       "      <td>11-03-2020</td>\n",
       "      <td>False</td>\n",
       "      <td>True</td>\n",
       "      <td>False</td>\n",
       "      <td>FALSE</td>\n",
       "      <td>False</td>\n",
       "      <td>None</td>\n",
       "      <td>None</td>\n",
       "      <td>Abroad</td>\n",
       "      <td>positive</td>\n",
       "    </tr>\n",
       "    <tr>\n",
       "      <th>2</th>\n",
       "      <td>3</td>\n",
       "      <td>11-03-2020</td>\n",
       "      <td>False</td>\n",
       "      <td>True</td>\n",
       "      <td>False</td>\n",
       "      <td>FALSE</td>\n",
       "      <td>False</td>\n",
       "      <td>None</td>\n",
       "      <td>None</td>\n",
       "      <td>Abroad</td>\n",
       "      <td>positive</td>\n",
       "    </tr>\n",
       "    <tr>\n",
       "      <th>3</th>\n",
       "      <td>4</td>\n",
       "      <td>11-03-2020</td>\n",
       "      <td>True</td>\n",
       "      <td>False</td>\n",
       "      <td>False</td>\n",
       "      <td>FALSE</td>\n",
       "      <td>False</td>\n",
       "      <td>None</td>\n",
       "      <td>None</td>\n",
       "      <td>Abroad</td>\n",
       "      <td>negative</td>\n",
       "    </tr>\n",
       "    <tr>\n",
       "      <th>4</th>\n",
       "      <td>5</td>\n",
       "      <td>11-03-2020</td>\n",
       "      <td>True</td>\n",
       "      <td>False</td>\n",
       "      <td>False</td>\n",
       "      <td>FALSE</td>\n",
       "      <td>False</td>\n",
       "      <td>None</td>\n",
       "      <td>None</td>\n",
       "      <td>Contact with confirmed</td>\n",
       "      <td>negative</td>\n",
       "    </tr>\n",
       "  </tbody>\n",
       "</table>\n",
       "</div>"
      ],
      "text/plain": [
       "   Id   Test_date  Cough  Fever Sore_throat Shortness_of_breath Headache  \\\n",
       "0   1  11-03-2020   True  False        True               FALSE    False   \n",
       "1   2  11-03-2020  False   True       False               FALSE    False   \n",
       "2   3  11-03-2020  False   True       False               FALSE    False   \n",
       "3   4  11-03-2020   True  False       False               FALSE    False   \n",
       "4   5  11-03-2020   True  False       False               FALSE    False   \n",
       "\n",
       "  Age_60_above   Sex           Known_contact Test_results  \n",
       "0         None  None                  Abroad     negative  \n",
       "1         None  None                  Abroad     positive  \n",
       "2         None  None                  Abroad     positive  \n",
       "3         None  None                  Abroad     negative  \n",
       "4         None  None  Contact with confirmed     negative  "
      ]
     },
     "execution_count": 49,
     "metadata": {},
     "output_type": "execute_result"
    }
   ],
   "source": [
    "corona_df.head()"
   ]
  },
  {
   "cell_type": "code",
   "execution_count": 70,
   "id": "f2bb1989",
   "metadata": {},
   "outputs": [],
   "source": [
    "# Saving the cleaned data as a csv file to be used in sql queries\n",
    "corona_df.to_csv('corona.csv', index=False)"
   ]
  },
  {
   "cell_type": "markdown",
   "id": "604dd8d0",
   "metadata": {},
   "source": [
    "## 2.2.8 Data exploration using plots"
   ]
  },
  {
   "cell_type": "code",
   "execution_count": 174,
   "id": "081aa68b",
   "metadata": {},
   "outputs": [
    {
     "data": {
      "image/png": "[encoded data removed]",
      "text/plain": [
       "<Figure size 800x800 with 1 Axes>"
      ]
     },
     "metadata": {},
     "output_type": "display_data"
    }
   ],
   "source": [
    "# Pie Chart-Sex\n",
    "plt.figure(figsize=(8, 8))\n",
    "corona_df['Test_results'].value_counts().plot(kind='pie', autopct='%1.1f%%')\n",
    "plt.title('Distribution of test results')\n",
    "plt.show()"
   ]
  },
  {
   "cell_type": "code",
   "execution_count": 50,
   "id": "1eed7bf3",
   "metadata": {},
   "outputs": [
    {
     "data": {
      "image/png": "[encoded data removed]",
      "text/plain": [
       "<Figure size 800x600 with 1 Axes>"
      ]
     },
     "metadata": {},
     "output_type": "display_data"
    }
   ],
   "source": [
    "# Count plot-Distribution of Cough by Test Results\n",
    "plt.figure(figsize=(8, 6))\n",
    "sns.countplot(data=corona_df, x='Cough', hue='Test_results')\n",
    "plt.title('Distribution of Cough by Test Results')\n",
    "plt.xlabel('Cough')\n",
    "plt.ylabel('Count')\n",
    "plt.show()"
   ]
  },
  {
   "cell_type": "code",
   "execution_count": 51,
   "id": "a895c5ce",
   "metadata": {},
   "outputs": [
    {
     "data": {
      "image/png": "[encoded data removed]",
      "text/plain": [
       "<Figure size 800x600 with 1 Axes>"
      ]
     },
     "metadata": {},
     "output_type": "display_data"
    }
   ],
   "source": [
    "# Hist plot-Age Distribution for Age_60_above\n",
    "plt.figure(figsize=(8, 6))\n",
    "sns.histplot(data=corona_df, x='Age_60_above', bins=10, kde=True)\n",
    "plt.title('Age Distribution for Age_60_above')\n",
    "plt.xlabel('Age_60_above')\n",
    "plt.ylabel('Frequency')\n",
    "plt.show()"
   ]
  },
  {
   "cell_type": "code",
   "execution_count": 57,
   "id": "a0190220",
   "metadata": {},
   "outputs": [
    {
     "data": {
      "image/png": "[encoded data removed]",
      "text/plain": [
       "<Figure size 800x600 with 1 Axes>"
      ]
     },
     "metadata": {},
     "output_type": "display_data"
    }
   ],
   "source": [
    "# Count Plot-Age_60_above by Test_results\n",
    "plt.figure(figsize=(8, 6))\n",
    "sns.countplot(data=corona_df, x='Test_results', hue='Age_60_above')\n",
    "plt.title('Distribution of Age_60_above by Test Results')\n",
    "plt.xlabel('Test_results')\n",
    "plt.ylabel('Count')\n",
    "plt.show()"
   ]
  },
  {
   "cell_type": "code",
   "execution_count": 58,
   "id": "9b55ca5a",
   "metadata": {},
   "outputs": [
    {
     "data": {
      "image/png": "[encoded data removed]",
      "text/plain": [
       "<Figure size 800x800 with 1 Axes>"
      ]
     },
     "metadata": {},
     "output_type": "display_data"
    }
   ],
   "source": [
    "# Pie Chart-Sex\n",
    "plt.figure(figsize=(8, 8))\n",
    "corona_df['Sex'].value_counts().plot(kind='pie', autopct='%1.1f%%')\n",
    "plt.title('Distribution of Sex')\n",
    "plt.show()"
   ]
  },
  {
   "cell_type": "code",
   "execution_count": 63,
   "id": "5d5bb50d",
   "metadata": {},
   "outputs": [
    {
     "data": {
      "image/png": "[encoded data removed]",
      "text/plain": [
       "<Figure size 800x600 with 1 Axes>"
      ]
     },
     "metadata": {},
     "output_type": "display_data"
    }
   ],
   "source": [
    "# Stacked Bar Chart-Sex and Test_results\n",
    "plt.figure(figsize=(8, 6))\n",
    "sns.countplot(data=corona_df, x='Test_results', hue='Sex')\n",
    "plt.title('Relationship Between Sex and Test Results')\n",
    "plt.xlabel('Test_results')\n",
    "plt.ylabel('Count')\n",
    "plt.legend(title='Sex', loc='upper right')\n",
    "plt.show()"
   ]
  },
  {
   "cell_type": "code",
   "execution_count": 71,
   "id": "21d394cc",
   "metadata": {},
   "outputs": [
    {
     "data": {
      "image/png": "[encoded data removed]",
      "text/plain": [
       "<Figure size 1000x600 with 1 Axes>"
      ]
     },
     "metadata": {},
     "output_type": "display_data"
    }
   ],
   "source": [
    "# Line Chart-Test_date against Test_results\n",
    "plt.figure(figsize=(10, 6))\n",
    "sns.lineplot(data=corona_df, x='Test_date', y='Test_results')\n",
    "plt.title('Trend of Test Results Over Time')\n",
    "plt.xlabel('Test Date')\n",
    "plt.ylabel('Test Results')\n",
    "plt.xticks(rotation=45)\n",
    "plt.show()"
   ]
  },
  {
   "cell_type": "markdown",
   "id": "b826bc72",
   "metadata": {},
   "source": [
    "## 2.2.9 Dropping unwanted rows (Data cleaning)"
   ]
  },
  {
   "cell_type": "code",
   "execution_count": 52,
   "id": "08e16fa7",
   "metadata": {},
   "outputs": [],
   "source": [
    "x = corona_df['Test_results'] != 'other'\n",
    "\n",
    "corona_df = corona_df[x]"
   ]
  },
  {
   "cell_type": "code",
   "execution_count": 53,
   "id": "ab4ba715",
   "metadata": {},
   "outputs": [
    {
     "data": {
      "text/plain": [
       "negative    260227\n",
       "positive     14729\n",
       "Name: Test_results, dtype: int64"
      ]
     },
     "execution_count": 53,
     "metadata": {},
     "output_type": "execute_result"
    }
   ],
   "source": [
    "corona_df['Test_results'].value_counts()"
   ]
  },
  {
   "cell_type": "code",
   "execution_count": 54,
   "id": "cc690144",
   "metadata": {},
   "outputs": [],
   "source": [
    "corona_df['Test_results'] = corona_df['Test_results'].replace({'negative': 0, 'positive': 1})"
   ]
  },
  {
   "cell_type": "markdown",
   "id": "a7b267d9",
   "metadata": {},
   "source": [
    "## 3. Data transformation or Data Wrangling"
   ]
  },
  {
   "cell_type": "markdown",
   "id": "7d6d99c4",
   "metadata": {},
   "source": [
    "## 3.1 Encoding\n",
    "* Converting the categorical data to numerical data.\n",
    "* This is to make the data to be easily understand by the machine."
   ]
  },
  {
   "cell_type": "code",
   "execution_count": 202,
   "id": "2d334bd2",
   "metadata": {},
   "outputs": [
    {
     "data": {
      "text/html": [
       "<div>\n",
       "<style scoped>\n",
       "    .dataframe tbody tr th:only-of-type {\n",
       "        vertical-align: middle;\n",
       "    }\n",
       "\n",
       "    .dataframe tbody tr th {\n",
       "        vertical-align: top;\n",
       "    }\n",
       "\n",
       "    .dataframe thead th {\n",
       "        text-align: right;\n",
       "    }\n",
       "</style>\n",
       "<table border=\"1\" class=\"dataframe\">\n",
       "  <thead>\n",
       "    <tr style=\"text-align: right;\">\n",
       "      <th></th>\n",
       "      <th>Id</th>\n",
       "      <th>Test_date</th>\n",
       "      <th>Cough</th>\n",
       "      <th>Fever</th>\n",
       "      <th>Sore_throat</th>\n",
       "      <th>Shortness_of_breath</th>\n",
       "      <th>Headache</th>\n",
       "      <th>Age_60_above</th>\n",
       "      <th>Sex</th>\n",
       "      <th>Known_contact</th>\n",
       "      <th>Test_results</th>\n",
       "    </tr>\n",
       "  </thead>\n",
       "  <tbody>\n",
       "    <tr>\n",
       "      <th>0</th>\n",
       "      <td>1</td>\n",
       "      <td>11-03-2020</td>\n",
       "      <td>True</td>\n",
       "      <td>False</td>\n",
       "      <td>True</td>\n",
       "      <td>FALSE</td>\n",
       "      <td>False</td>\n",
       "      <td>None</td>\n",
       "      <td>None</td>\n",
       "      <td>Abroad</td>\n",
       "      <td>0</td>\n",
       "    </tr>\n",
       "    <tr>\n",
       "      <th>1</th>\n",
       "      <td>2</td>\n",
       "      <td>11-03-2020</td>\n",
       "      <td>False</td>\n",
       "      <td>True</td>\n",
       "      <td>False</td>\n",
       "      <td>FALSE</td>\n",
       "      <td>False</td>\n",
       "      <td>None</td>\n",
       "      <td>None</td>\n",
       "      <td>Abroad</td>\n",
       "      <td>1</td>\n",
       "    </tr>\n",
       "    <tr>\n",
       "      <th>2</th>\n",
       "      <td>3</td>\n",
       "      <td>11-03-2020</td>\n",
       "      <td>False</td>\n",
       "      <td>True</td>\n",
       "      <td>False</td>\n",
       "      <td>FALSE</td>\n",
       "      <td>False</td>\n",
       "      <td>None</td>\n",
       "      <td>None</td>\n",
       "      <td>Abroad</td>\n",
       "      <td>1</td>\n",
       "    </tr>\n",
       "    <tr>\n",
       "      <th>3</th>\n",
       "      <td>4</td>\n",
       "      <td>11-03-2020</td>\n",
       "      <td>True</td>\n",
       "      <td>False</td>\n",
       "      <td>False</td>\n",
       "      <td>FALSE</td>\n",
       "      <td>False</td>\n",
       "      <td>None</td>\n",
       "      <td>None</td>\n",
       "      <td>Abroad</td>\n",
       "      <td>0</td>\n",
       "    </tr>\n",
       "    <tr>\n",
       "      <th>4</th>\n",
       "      <td>5</td>\n",
       "      <td>11-03-2020</td>\n",
       "      <td>True</td>\n",
       "      <td>False</td>\n",
       "      <td>False</td>\n",
       "      <td>FALSE</td>\n",
       "      <td>False</td>\n",
       "      <td>None</td>\n",
       "      <td>None</td>\n",
       "      <td>Contact with confirmed</td>\n",
       "      <td>0</td>\n",
       "    </tr>\n",
       "  </tbody>\n",
       "</table>\n",
       "</div>"
      ],
      "text/plain": [
       "   Id   Test_date  Cough  Fever Sore_throat Shortness_of_breath Headache  \\\n",
       "0   1  11-03-2020   True  False        True               FALSE    False   \n",
       "1   2  11-03-2020  False   True       False               FALSE    False   \n",
       "2   3  11-03-2020  False   True       False               FALSE    False   \n",
       "3   4  11-03-2020   True  False       False               FALSE    False   \n",
       "4   5  11-03-2020   True  False       False               FALSE    False   \n",
       "\n",
       "  Age_60_above   Sex           Known_contact  Test_results  \n",
       "0         None  None                  Abroad             0  \n",
       "1         None  None                  Abroad             1  \n",
       "2         None  None                  Abroad             1  \n",
       "3         None  None                  Abroad             0  \n",
       "4         None  None  Contact with confirmed             0  "
      ]
     },
     "execution_count": 202,
     "metadata": {},
     "output_type": "execute_result"
    }
   ],
   "source": [
    "corona_df.head()"
   ]
  },
  {
   "cell_type": "code",
   "execution_count": 55,
   "id": "4d1ea747",
   "metadata": {},
   "outputs": [],
   "source": [
    "# Dummy encoding\n",
    "\n",
    "covid_df = pd.get_dummies(corona_df, columns=['Cough', 'Fever', 'Sore_throat', 'Shortness_of_breath', 'Headache',\n",
    "                                          'Age_60_above', 'Sex', 'Known_contact'], drop_first=True)"
   ]
  },
  {
   "cell_type": "code",
   "execution_count": 56,
   "id": "8ede12fb",
   "metadata": {},
   "outputs": [],
   "source": [
    "covid_df=covid_df.drop('Test_date', axis=1)"
   ]
  },
  {
   "cell_type": "code",
   "execution_count": 57,
   "id": "d8222706",
   "metadata": {},
   "outputs": [],
   "source": [
    "covid_df=covid_df.drop('Id', axis=1)"
   ]
  },
  {
   "cell_type": "markdown",
   "id": "4ae6ec2f",
   "metadata": {},
   "source": [
    "## 3.2 Spliting the data into Train Test Split"
   ]
  },
  {
   "cell_type": "code",
   "execution_count": 58,
   "id": "6ca29fc6",
   "metadata": {},
   "outputs": [],
   "source": [
    "# Seperating Independent and dependent variables\n",
    "x = covid_df.iloc[:,:-1]\n",
    "y = covid_df.iloc[:,-1]"
   ]
  },
  {
   "cell_type": "code",
   "execution_count": 59,
   "id": "7b60a83b",
   "metadata": {},
   "outputs": [
    {
     "data": {
      "text/html": [
       "<div>\n",
       "<style scoped>\n",
       "    .dataframe tbody tr th:only-of-type {\n",
       "        vertical-align: middle;\n",
       "    }\n",
       "\n",
       "    .dataframe tbody tr th {\n",
       "        vertical-align: top;\n",
       "    }\n",
       "\n",
       "    .dataframe thead th {\n",
       "        text-align: right;\n",
       "    }\n",
       "</style>\n",
       "<table border=\"1\" class=\"dataframe\">\n",
       "  <thead>\n",
       "    <tr style=\"text-align: right;\">\n",
       "      <th></th>\n",
       "      <th>Test_results</th>\n",
       "      <th>Cough_True</th>\n",
       "      <th>Cough_None</th>\n",
       "      <th>Fever_True</th>\n",
       "      <th>Fever_None</th>\n",
       "      <th>Sore_throat_True</th>\n",
       "      <th>Sore_throat_None</th>\n",
       "      <th>Shortness_of_breath_True</th>\n",
       "      <th>Shortness_of_breath_FALSE</th>\n",
       "      <th>Shortness_of_breath_None</th>\n",
       "      <th>Shortness_of_breath_TRUE</th>\n",
       "      <th>Headache_True</th>\n",
       "      <th>Headache_None</th>\n",
       "      <th>Age_60_above_None</th>\n",
       "      <th>Age_60_above_Yes</th>\n",
       "      <th>Sex_female</th>\n",
       "      <th>Sex_male</th>\n",
       "      <th>Known_contact_Contact with confirmed</th>\n",
       "    </tr>\n",
       "  </thead>\n",
       "  <tbody>\n",
       "    <tr>\n",
       "      <th>0</th>\n",
       "      <td>0</td>\n",
       "      <td>1</td>\n",
       "      <td>0</td>\n",
       "      <td>0</td>\n",
       "      <td>0</td>\n",
       "      <td>1</td>\n",
       "      <td>0</td>\n",
       "      <td>0</td>\n",
       "      <td>1</td>\n",
       "      <td>0</td>\n",
       "      <td>0</td>\n",
       "      <td>0</td>\n",
       "      <td>0</td>\n",
       "      <td>1</td>\n",
       "      <td>0</td>\n",
       "      <td>0</td>\n",
       "      <td>0</td>\n",
       "      <td>0</td>\n",
       "    </tr>\n",
       "    <tr>\n",
       "      <th>1</th>\n",
       "      <td>1</td>\n",
       "      <td>0</td>\n",
       "      <td>0</td>\n",
       "      <td>1</td>\n",
       "      <td>0</td>\n",
       "      <td>0</td>\n",
       "      <td>0</td>\n",
       "      <td>0</td>\n",
       "      <td>1</td>\n",
       "      <td>0</td>\n",
       "      <td>0</td>\n",
       "      <td>0</td>\n",
       "      <td>0</td>\n",
       "      <td>1</td>\n",
       "      <td>0</td>\n",
       "      <td>0</td>\n",
       "      <td>0</td>\n",
       "      <td>0</td>\n",
       "    </tr>\n",
       "    <tr>\n",
       "      <th>2</th>\n",
       "      <td>1</td>\n",
       "      <td>0</td>\n",
       "      <td>0</td>\n",
       "      <td>1</td>\n",
       "      <td>0</td>\n",
       "      <td>0</td>\n",
       "      <td>0</td>\n",
       "      <td>0</td>\n",
       "      <td>1</td>\n",
       "      <td>0</td>\n",
       "      <td>0</td>\n",
       "      <td>0</td>\n",
       "      <td>0</td>\n",
       "      <td>1</td>\n",
       "      <td>0</td>\n",
       "      <td>0</td>\n",
       "      <td>0</td>\n",
       "      <td>0</td>\n",
       "    </tr>\n",
       "    <tr>\n",
       "      <th>3</th>\n",
       "      <td>0</td>\n",
       "      <td>1</td>\n",
       "      <td>0</td>\n",
       "      <td>0</td>\n",
       "      <td>0</td>\n",
       "      <td>0</td>\n",
       "      <td>0</td>\n",
       "      <td>0</td>\n",
       "      <td>1</td>\n",
       "      <td>0</td>\n",
       "      <td>0</td>\n",
       "      <td>0</td>\n",
       "      <td>0</td>\n",
       "      <td>1</td>\n",
       "      <td>0</td>\n",
       "      <td>0</td>\n",
       "      <td>0</td>\n",
       "      <td>0</td>\n",
       "    </tr>\n",
       "    <tr>\n",
       "      <th>4</th>\n",
       "      <td>0</td>\n",
       "      <td>1</td>\n",
       "      <td>0</td>\n",
       "      <td>0</td>\n",
       "      <td>0</td>\n",
       "      <td>0</td>\n",
       "      <td>0</td>\n",
       "      <td>0</td>\n",
       "      <td>1</td>\n",
       "      <td>0</td>\n",
       "      <td>0</td>\n",
       "      <td>0</td>\n",
       "      <td>0</td>\n",
       "      <td>1</td>\n",
       "      <td>0</td>\n",
       "      <td>0</td>\n",
       "      <td>0</td>\n",
       "      <td>1</td>\n",
       "    </tr>\n",
       "  </tbody>\n",
       "</table>\n",
       "</div>"
      ],
      "text/plain": [
       "   Test_results  Cough_True  Cough_None  Fever_True  Fever_None  \\\n",
       "0             0           1           0           0           0   \n",
       "1             1           0           0           1           0   \n",
       "2             1           0           0           1           0   \n",
       "3             0           1           0           0           0   \n",
       "4             0           1           0           0           0   \n",
       "\n",
       "   Sore_throat_True  Sore_throat_None  Shortness_of_breath_True  \\\n",
       "0                 1                 0                         0   \n",
       "1                 0                 0                         0   \n",
       "2                 0                 0                         0   \n",
       "3                 0                 0                         0   \n",
       "4                 0                 0                         0   \n",
       "\n",
       "   Shortness_of_breath_FALSE  Shortness_of_breath_None  \\\n",
       "0                          1                         0   \n",
       "1                          1                         0   \n",
       "2                          1                         0   \n",
       "3                          1                         0   \n",
       "4                          1                         0   \n",
       "\n",
       "   Shortness_of_breath_TRUE  Headache_True  Headache_None  Age_60_above_None  \\\n",
       "0                         0              0              0                  1   \n",
       "1                         0              0              0                  1   \n",
       "2                         0              0              0                  1   \n",
       "3                         0              0              0                  1   \n",
       "4                         0              0              0                  1   \n",
       "\n",
       "   Age_60_above_Yes  Sex_female  Sex_male  \\\n",
       "0                 0           0         0   \n",
       "1                 0           0         0   \n",
       "2                 0           0         0   \n",
       "3                 0           0         0   \n",
       "4                 0           0         0   \n",
       "\n",
       "   Known_contact_Contact with confirmed  \n",
       "0                                     0  \n",
       "1                                     0  \n",
       "2                                     0  \n",
       "3                                     0  \n",
       "4                                     1  "
      ]
     },
     "execution_count": 59,
     "metadata": {},
     "output_type": "execute_result"
    }
   ],
   "source": [
    "x.head()"
   ]
  },
  {
   "cell_type": "code",
   "execution_count": 60,
   "id": "3a0f86b6",
   "metadata": {},
   "outputs": [
    {
     "data": {
      "text/plain": [
       "0    0\n",
       "1    0\n",
       "2    0\n",
       "3    0\n",
       "4    0\n",
       "Name: Known_contact_Other, dtype: uint8"
      ]
     },
     "execution_count": 60,
     "metadata": {},
     "output_type": "execute_result"
    }
   ],
   "source": [
    "y.head()"
   ]
  },
  {
   "cell_type": "code",
   "execution_count": 61,
   "id": "157ed6e0",
   "metadata": {},
   "outputs": [],
   "source": [
    "# Train Test Split\n",
    "\n",
    "from sklearn.model_selection import train_test_split\n",
    "x_train, x_test, y_train, y_test = train_test_split(x, y, test_size = 0.15, random_state = 16)"
   ]
  },
  {
   "cell_type": "markdown",
   "id": "6d90bcad",
   "metadata": {},
   "source": [
    "## 3.3 Standardization / Feature scaling"
   ]
  },
  {
   "cell_type": "code",
   "execution_count": 62,
   "id": "c7bac818",
   "metadata": {},
   "outputs": [],
   "source": [
    "from sklearn.preprocessing import StandardScaler\n",
    "scaler = StandardScaler()\n",
    "\n",
    "x_train = scaler.fit_transform(x_train)\n",
    "x_test = scaler.transform(x_test)"
   ]
  },
  {
   "cell_type": "markdown",
   "id": "56724149",
   "metadata": {},
   "source": [
    "## 4. Machine learning approach"
   ]
  },
  {
   "cell_type": "markdown",
   "id": "c21b1c84",
   "metadata": {},
   "source": [
    "## 4.1 Logistic regression"
   ]
  },
  {
   "cell_type": "code",
   "execution_count": 215,
   "id": "8bea695f",
   "metadata": {},
   "outputs": [
    {
     "name": "stdout",
     "output_type": "stream",
     "text": [
      "Train Accuracy:  0.9160804751146711\n",
      "Test Accuracy:  0.9158907962370284\n",
      "Cross validation score:  0.9082434280369215\n"
     ]
    }
   ],
   "source": [
    "# Modeling\n",
    "from sklearn.linear_model import LogisticRegression\n",
    "logistic_reg = LogisticRegression(random_state = 0, max_iter=1000)\n",
    "logistic_reg.fit(x_train, y_train)\n",
    "\n",
    "# Predictions\n",
    "ypred_train = logistic_reg.predict(x_train)\n",
    "ypred_test  = logistic_reg.predict(x_test)\n",
    "\n",
    "\n",
    "# Evaluation\n",
    "from sklearn.metrics import accuracy_score\n",
    "print(\"Train Accuracy: \", accuracy_score(y_train, ypred_train))\n",
    "print(\"Test Accuracy: \", accuracy_score(y_test, ypred_test))\n",
    "\n",
    "# Calculation of cross validation score:\n",
    "from sklearn.model_selection import cross_val_score\n",
    "print(\"Cross validation score: \", cross_val_score(logistic_reg, x,y, cv=5, scoring=\"accuracy\").mean())"
   ]
  },
  {
   "cell_type": "markdown",
   "id": "25e14246",
   "metadata": {},
   "source": [
    "## 4.2 KNN"
   ]
  },
  {
   "cell_type": "code",
   "execution_count": 216,
   "id": "d7f69407",
   "metadata": {},
   "outputs": [
    {
     "name": "stdout",
     "output_type": "stream",
     "text": [
      "Train Accuracy:  0.9149423221742999\n",
      "Test Accuracy:  0.9134419551934827\n",
      "Cross validation score:  0.9078979076280935\n"
     ]
    }
   ],
   "source": [
    "# K-Nearest Neighbors with default parameters\n",
    "\n",
    "# Modeling\n",
    "from sklearn.neighbors import KNeighborsClassifier\n",
    "model = KNeighborsClassifier()\n",
    "model.fit(x_train, y_train)\n",
    "\n",
    "# Prediction\n",
    "ypred_train = model.predict(x_train)\n",
    "ypred_test  = model.predict(x_test)\n",
    "\n",
    "# Evaluation\n",
    "from sklearn.metrics import accuracy_score\n",
    "print(\"Train Accuracy: \", accuracy_score(y_train, ypred_train))\n",
    "print(\"Test Accuracy: \", accuracy_score(y_test, ypred_test))\n",
    "\n",
    "from sklearn.model_selection import cross_val_score\n",
    "print(\"Cross validation score: \", cross_val_score(model,x,y, cv=5, scoring=\"accuracy\").mean())"
   ]
  },
  {
   "cell_type": "code",
   "execution_count": 217,
   "id": "27eacea1",
   "metadata": {},
   "outputs": [
    {
     "data": {
      "text/plain": [
       "{'n_neighbors': 9}"
      ]
     },
     "execution_count": 217,
     "metadata": {},
     "output_type": "execute_result"
    }
   ],
   "source": [
    "# Hyper Parameter Tuning to improve the model's performance with best combination of hyperparameters\n",
    "\n",
    "from sklearn.model_selection import GridSearchCV\n",
    "\n",
    "estimator = KNeighborsClassifier()\n",
    "\n",
    "param_grid = {'n_neighbors': list(range(1,11))}\n",
    "\n",
    "cv_classifier = GridSearchCV(estimator, param_grid, cv=5, scoring='accuracy')\n",
    "\n",
    "cv_classifier.fit(x_train, y_train)\n",
    "\n",
    "cv_classifier.best_params_"
   ]
  },
  {
   "cell_type": "code",
   "execution_count": 218,
   "id": "2a5a04b1",
   "metadata": {},
   "outputs": [
    {
     "name": "stdout",
     "output_type": "stream",
     "text": [
      "Train Accuracy:  0.9178176559183953\n",
      "Test Accuracy:  0.9159150421879546\n",
      "Cross validation score:  0.9073632755479277\n"
     ]
    }
   ],
   "source": [
    "# KNN with the best combinations\n",
    "# Applying the k value obtained from Hyper parameter tuning to the KNN to get the best accuracy & CVS\n",
    "\n",
    "# Modeling\n",
    "from sklearn.neighbors import KNeighborsClassifier\n",
    "model = KNeighborsClassifier(n_neighbors = 9)     # Changed the default K value to the value obtained from HPT\n",
    "model.fit(x_train, y_train)\n",
    "\n",
    "# Prediction\n",
    "ypred = model.predict(x_test)\n",
    "ypred_train = model.predict(x_train)\n",
    "ypred_test  = model.predict(x_test)\n",
    "\n",
    "# Evaluation\n",
    "from sklearn.metrics import accuracy_score\n",
    "print(\"Train Accuracy: \", accuracy_score(y_train, ypred_train))\n",
    "print(\"Test Accuracy: \", accuracy_score(y_test, ypred_test))\n",
    "\n",
    "from sklearn.model_selection import cross_val_score\n",
    "print(\"Cross validation score: \", cross_val_score(model,x,y, cv=5, scoring=\"accuracy\").mean())"
   ]
  },
  {
   "cell_type": "markdown",
   "id": "2e3d3303",
   "metadata": {},
   "source": [
    "## 4.3 SVM"
   ]
  },
  {
   "cell_type": "code",
   "execution_count": 219,
   "id": "a9e88bd5",
   "metadata": {},
   "outputs": [
    {
     "name": "stdout",
     "output_type": "stream",
     "text": [
      "Train Accuracy:  0.9220279660436776\n",
      "Test Accuracy:  0.9206430026185627\n",
      "cross validation score:  0.9073632755479277\n"
     ]
    }
   ],
   "source": [
    "# Modeling\n",
    "from sklearn.svm import SVC\n",
    "svm_model = SVC()\n",
    "svm_model.fit(x_train, y_train)\n",
    "\n",
    "# Prediction\n",
    "ypred_train = svm_model.predict(x_train)\n",
    "ypred_test  = svm_model.predict(x_test)\n",
    "\n",
    "# Evaluation\n",
    "from sklearn.metrics import accuracy_score\n",
    "print(\"Train Accuracy: \", accuracy_score(y_train, ypred_train))\n",
    "print(\"Test Accuracy: \", accuracy_score(y_test, ypred_test))\n",
    "\n",
    "from sklearn.model_selection import cross_val_score\n",
    "print(\"cross validation score: \", cross_val_score(model, x, y, cv=5, scoring=\"accuracy\").mean())"
   ]
  },
  {
   "cell_type": "markdown",
   "id": "8454a2f2",
   "metadata": {},
   "source": [
    "## 4.4 Decision tree"
   ]
  },
  {
   "cell_type": "code",
   "execution_count": 220,
   "id": "10a51dd0",
   "metadata": {},
   "outputs": [
    {
     "data": {
      "text/html": [
       "<style>#sk-container-id-1 {color: black;background-color: white;}#sk-container-id-1 pre{padding: 0;}#sk-container-id-1 div.sk-toggleable {background-color: white;}#sk-container-id-1 label.sk-toggleable__label {cursor: pointer;display: block;width: 100%;margin-bottom: 0;padding: 0.3em;box-sizing: border-box;text-align: center;}#sk-container-id-1 label.sk-toggleable__label-arrow:before {content: \"▸\";float: left;margin-right: 0.25em;color: #696969;}#sk-container-id-1 label.sk-toggleable__label-arrow:hover:before {color: black;}#sk-container-id-1 div.sk-estimator:hover label.sk-toggleable__label-arrow:before {color: black;}#sk-container-id-1 div.sk-toggleable__content {max-height: 0;max-width: 0;overflow: hidden;text-align: left;background-color: #f0f8ff;}#sk-container-id-1 div.sk-toggleable__content pre {margin: 0.2em;color: black;border-radius: 0.25em;background-color: #f0f8ff;}#sk-container-id-1 input.sk-toggleable__control:checked~div.sk-toggleable__content {max-height: 200px;max-width: 100%;overflow: auto;}#sk-container-id-1 input.sk-toggleable__control:checked~label.sk-toggleable__label-arrow:before {content: \"▾\";}#sk-container-id-1 div.sk-estimator input.sk-toggleable__control:checked~label.sk-toggleable__label {background-color: #d4ebff;}#sk-container-id-1 div.sk-label input.sk-toggleable__control:checked~label.sk-toggleable__label {background-color: #d4ebff;}#sk-container-id-1 input.sk-hidden--visually {border: 0;clip: rect(1px 1px 1px 1px);clip: rect(1px, 1px, 1px, 1px);height: 1px;margin: -1px;overflow: hidden;padding: 0;position: absolute;width: 1px;}#sk-container-id-1 div.sk-estimator {font-family: monospace;background-color: #f0f8ff;border: 1px dotted black;border-radius: 0.25em;box-sizing: border-box;margin-bottom: 0.5em;}#sk-container-id-1 div.sk-estimator:hover {background-color: #d4ebff;}#sk-container-id-1 div.sk-parallel-item::after {content: \"\";width: 100%;border-bottom: 1px solid gray;flex-grow: 1;}#sk-container-id-1 div.sk-label:hover label.sk-toggleable__label {background-color: #d4ebff;}#sk-container-id-1 div.sk-serial::before {content: \"\";position: absolute;border-left: 1px solid gray;box-sizing: border-box;top: 0;bottom: 0;left: 50%;z-index: 0;}#sk-container-id-1 div.sk-serial {display: flex;flex-direction: column;align-items: center;background-color: white;padding-right: 0.2em;padding-left: 0.2em;position: relative;}#sk-container-id-1 div.sk-item {position: relative;z-index: 1;}#sk-container-id-1 div.sk-parallel {display: flex;align-items: stretch;justify-content: center;background-color: white;position: relative;}#sk-container-id-1 div.sk-item::before, #sk-container-id-1 div.sk-parallel-item::before {content: \"\";position: absolute;border-left: 1px solid gray;box-sizing: border-box;top: 0;bottom: 0;left: 50%;z-index: -1;}#sk-container-id-1 div.sk-parallel-item {display: flex;flex-direction: column;z-index: 1;position: relative;background-color: white;}#sk-container-id-1 div.sk-parallel-item:first-child::after {align-self: flex-end;width: 50%;}#sk-container-id-1 div.sk-parallel-item:last-child::after {align-self: flex-start;width: 50%;}#sk-container-id-1 div.sk-parallel-item:only-child::after {width: 0;}#sk-container-id-1 div.sk-dashed-wrapped {border: 1px dashed gray;margin: 0 0.4em 0.5em 0.4em;box-sizing: border-box;padding-bottom: 0.4em;background-color: white;}#sk-container-id-1 div.sk-label label {font-family: monospace;font-weight: bold;display: inline-block;line-height: 1.2em;}#sk-container-id-1 div.sk-label-container {text-align: center;}#sk-container-id-1 div.sk-container {/* jupyter's `normalize.less` sets `[hidden] { display: none; }` but bootstrap.min.css set `[hidden] { display: none !important; }` so we also need the `!important` here to be able to override the default hidden behavior on the sphinx rendered scikit-learn.org. See: https://github.com/scikit-learn/scikit-learn/issues/21755 */display: inline-block !important;position: relative;}#sk-container-id-1 div.sk-text-repr-fallback {display: none;}</style><div id=\"sk-container-id-1\" class=\"sk-top-container\"><div class=\"sk-text-repr-fallback\"><pre>DecisionTreeClassifier()</pre><b>In a Jupyter environment, please rerun this cell to show the HTML representation or trust the notebook. <br />On GitHub, the HTML representation is unable to render, please try loading this page with nbviewer.org.</b></div><div class=\"sk-container\" hidden><div class=\"sk-item\"><div class=\"sk-estimator sk-toggleable\"><input class=\"sk-toggleable__control sk-hidden--visually\" id=\"sk-estimator-id-1\" type=\"checkbox\" checked><label for=\"sk-estimator-id-1\" class=\"sk-toggleable__label sk-toggleable__label-arrow\">DecisionTreeClassifier</label><div class=\"sk-toggleable__content\"><pre>DecisionTreeClassifier()</pre></div></div></div></div></div>"
      ],
      "text/plain": [
       "DecisionTreeClassifier()"
      ]
     },
     "execution_count": 220,
     "metadata": {},
     "output_type": "execute_result"
    }
   ],
   "source": [
    "from sklearn.tree import DecisionTreeClassifier\n",
    "dt_model = DecisionTreeClassifier()\n",
    "\n",
    "dt_model.fit(x_train, y_train)"
   ]
  },
  {
   "cell_type": "code",
   "execution_count": 221,
   "id": "76745e36",
   "metadata": {},
   "outputs": [
    {
     "name": "stdout",
     "output_type": "stream",
     "text": [
      "Train Accuracy:  0.9223274799753542\n",
      "Test Accuracy:  0.9202793133546697\n",
      "cross validation score:  0.9073632755479277\n"
     ]
    }
   ],
   "source": [
    "# Modeling\n",
    "from sklearn.tree import DecisionTreeClassifier\n",
    "dt_model = DecisionTreeClassifier(random_state=16)\n",
    "dt_model.fit(x_train, y_train)\n",
    "\n",
    "# Prediction\n",
    "ypred_train = dt_model.predict(x_train)\n",
    "ypred_test  = dt_model.predict(x_test)\n",
    "\n",
    "# Evaluation\n",
    "from sklearn.metrics import accuracy_score\n",
    "print(\"Train Accuracy: \", accuracy_score(y_train, ypred_train))\n",
    "print(\"Test Accuracy: \", accuracy_score(y_test, ypred_test))\n",
    "\n",
    "from sklearn.model_selection import cross_val_score\n",
    "print(\"cross validation score: \", cross_val_score(model, x, y, cv=5, scoring=\"accuracy\").mean())"
   ]
  },
  {
   "cell_type": "markdown",
   "id": "b6f06c05",
   "metadata": {},
   "source": [
    "## 4.5 Random forest"
   ]
  },
  {
   "cell_type": "code",
   "execution_count": 222,
   "id": "baaa7b5a",
   "metadata": {},
   "outputs": [
    {
     "name": "stdout",
     "output_type": "stream",
     "text": [
      "Train Accuracy:  0.9223274799753542\n",
      "Test Accuracy:  0.9204005431093008\n",
      "cross validation score:  0.9089199019722681\n"
     ]
    }
   ],
   "source": [
    "# Random forest with default parameters\n",
    "\n",
    "# Modeling\n",
    "from sklearn.ensemble import RandomForestClassifier\n",
    "model = RandomForestClassifier(random_state=16)\n",
    "model.fit(x_train, y_train)\n",
    "\n",
    "# Prediction\n",
    "ypred_train = model.predict(x_train)\n",
    "ypred_test  = model.predict(x_test)\n",
    "\n",
    "# Evaluation\n",
    "from sklearn.metrics import accuracy_score\n",
    "print(\"Train Accuracy: \", accuracy_score(y_train, ypred_train))\n",
    "print(\"Test Accuracy: \", accuracy_score(y_test, ypred_test))\n",
    "\n",
    "from sklearn.model_selection import cross_val_score\n",
    "print(\"cross validation score: \", cross_val_score(model, x, y, cv=5, scoring=\"accuracy\").mean())"
   ]
  },
  {
   "cell_type": "code",
   "execution_count": 224,
   "id": "2d6a7d18",
   "metadata": {},
   "outputs": [
    {
     "data": {
      "text/plain": [
       "array([7.75637861e-02, 4.48771550e-01, 6.37197422e-05, 1.04966066e-01,\n",
       "       5.67602277e-05, 7.66291430e-03, 3.41449641e-07, 1.20679377e-03,\n",
       "       1.09050986e-02, 9.39656730e-07, 3.92016700e-03, 9.96012422e-03,\n",
       "       1.46618080e-06, 6.30776205e-03, 4.03184438e-03, 2.64083960e-03,\n",
       "       3.05158359e-03, 3.18888243e-01])"
      ]
     },
     "execution_count": 224,
     "metadata": {},
     "output_type": "execute_result"
    }
   ],
   "source": [
    "# Measuring the importance of each feature in this model\n",
    "model.feature_importances_"
   ]
  },
  {
   "cell_type": "markdown",
   "id": "483f6b24",
   "metadata": {},
   "source": [
    "## 4.6 XG Boost"
   ]
  },
  {
   "cell_type": "code",
   "execution_count": 225,
   "id": "1944f616",
   "metadata": {},
   "outputs": [
    {
     "name": "stdout",
     "output_type": "stream",
     "text": [
      "Train Accuracy:  0.9221477716163483\n",
      "Test Accuracy:  0.9204975269130056\n",
      "cross validation score:  0.9089199019722681\n"
     ]
    }
   ],
   "source": [
    "# Modeling\n",
    "from xgboost import XGBClassifier\n",
    "xgb_model = XGBClassifier()\n",
    "xgb_model.fit(x_train, y_train)\n",
    "\n",
    "# Prediction\n",
    "ypred_train = xgb_model.predict(x_train)\n",
    "ypred_test  = xgb_model.predict(x_test)\n",
    "\n",
    "# Evaluation\n",
    "from sklearn.metrics import accuracy_score\n",
    "print(\"Train Accuracy: \", accuracy_score(y_train, ypred_train))\n",
    "print(\"Test Accuracy: \", accuracy_score(y_test, ypred_test))\n",
    "\n",
    "from sklearn.model_selection import cross_val_score\n",
    "print(\"cross validation score: \", cross_val_score(model, x, y, cv=5, scoring=\"accuracy\").mean())"
   ]
  },
  {
   "cell_type": "markdown",
   "id": "2ad97069",
   "metadata": {},
   "source": [
    "## Model Selection\n",
    "\n",
    "Selecting the best model on the basic of:\n",
    "    \n",
    "(a) Condition1: Test accuracy = Train accuracy = Cross validation score (+/- 5 is accaptable)\n",
    "    \n",
    "(b) Condition2: If the more than one model is satisfing the 1st condition go for the model having the highest CV"
   ]
  },
  {
   "cell_type": "markdown",
   "id": "15291be5",
   "metadata": {},
   "source": [
    "* While examing all the models Random forest and XGBoost appears to be almost equal giving high train accuracy, test accuracy and cross validation score.\n",
    "* But Random forest gives little more train accuracy.\n",
    "* So i opt for Random forest as the best model."
   ]
  },
  {
   "cell_type": "code",
   "execution_count": 64,
   "id": "ceb19a7b",
   "metadata": {},
   "outputs": [
    {
     "name": "stdout",
     "output_type": "stream",
     "text": [
      "Train Accuracy:  0.9223274799753542\n",
      "Test Accuracy:  0.9204005431093008\n",
      "cross validation score:  0.9089199019722681\n"
     ]
    }
   ],
   "source": [
    "# Random forest (Selected model)\n",
    "\n",
    "# Modeling\n",
    "from sklearn.ensemble import RandomForestClassifier\n",
    "model = RandomForestClassifier(random_state=16)\n",
    "model.fit(x_train, y_train)\n",
    "\n",
    "# Prediction\n",
    "ypred_train = model.predict(x_train)\n",
    "ypred_test  = model.predict(x_test)\n",
    "\n",
    "# Evaluation\n",
    "from sklearn.metrics import accuracy_score\n",
    "print(\"Train Accuracy: \", accuracy_score(y_train, ypred_train))\n",
    "print(\"Test Accuracy: \", accuracy_score(y_test, ypred_test))\n",
    "\n",
    "from sklearn.model_selection import cross_val_score\n",
    "print(\"cross validation score: \", cross_val_score(model, x, y, cv=5, scoring=\"accuracy\").mean())"
   ]
  },
  {
   "cell_type": "markdown",
   "id": "1dc60334",
   "metadata": {},
   "source": [
    "## Checking for confusion metrix and Classification report for the final model"
   ]
  },
  {
   "cell_type": "code",
   "execution_count": 65,
   "id": "56684260",
   "metadata": {},
   "outputs": [
    {
     "name": "stdout",
     "output_type": "stream",
     "text": [
      "[[ 3602  1771]\n",
      " [ 1512 34359]]\n"
     ]
    }
   ],
   "source": [
    "from sklearn.metrics import confusion_matrix\n",
    "print(confusion_matrix(y_test, ypred_test))"
   ]
  },
  {
   "cell_type": "code",
   "execution_count": 66,
   "id": "56a7e4f3",
   "metadata": {},
   "outputs": [
    {
     "name": "stdout",
     "output_type": "stream",
     "text": [
      "              precision    recall  f1-score   support\n",
      "\n",
      "           0       0.70      0.67      0.69      5373\n",
      "           1       0.95      0.96      0.95     35871\n",
      "\n",
      "    accuracy                           0.92     41244\n",
      "   macro avg       0.83      0.81      0.82     41244\n",
      "weighted avg       0.92      0.92      0.92     41244\n",
      "\n"
     ]
    }
   ],
   "source": [
    "from sklearn.metrics import classification_report\n",
    "print(classification_report(y_test, ypred_test))"
   ]
  },
  {
   "cell_type": "code",
   "execution_count": null,
   "id": "c4d68ed0",
   "metadata": {},
   "outputs": [],
   "source": []
  }
 ],
 "metadata": {
  "kernelspec": {
   "display_name": "Python 3 (ipykernel)",
   "language": "python",
   "name": "python3"
  },
  "language_info": {
   "codemirror_mode": {
    "name": "ipython",
    "version": 3
   },
   "file_extension": ".py",
   "mimetype": "text/x-python",
   "name": "python",
   "nbconvert_exporter": "python",
   "pygments_lexer": "ipython3",
   "version": "3.10.9"
  }
 },
 "nbformat": 4,
 "nbformat_minor": 5
}
